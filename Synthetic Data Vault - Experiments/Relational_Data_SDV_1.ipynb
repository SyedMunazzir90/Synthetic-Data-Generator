{
  "nbformat": 4,
  "nbformat_minor": 0,
  "metadata": {
    "colab": {
      "provenance": [],
      "collapsed_sections": []
    },
    "kernelspec": {
      "name": "python3",
      "display_name": "Python 3"
    },
    "language_info": {
      "name": "python"
    }
  },
  "cells": [
    {
      "cell_type": "code",
      "execution_count": null,
      "metadata": {
        "colab": {
          "base_uri": "https://localhost:8080/",
          "height": 1000
        },
        "id": "7XLimgFj7Tpo",
        "outputId": "e63b4c93-6fbf-4b64-c0fe-d62182a917fe"
      },
      "outputs": [
        {
          "output_type": "stream",
          "name": "stdout",
          "text": [
            "Looking in indexes: https://pypi.org/simple, https://us-python.pkg.dev/colab-wheels/public/simple/\n",
            "Collecting sdv\n",
            "  Downloading sdv-0.17.1-py2.py3-none-any.whl (102 kB)\n",
            "\u001b[K     |████████████████████████████████| 102 kB 5.9 MB/s \n",
            "\u001b[?25hCollecting Faker<15,>=10\n",
            "  Downloading Faker-14.2.1-py3-none-any.whl (1.6 MB)\n",
            "\u001b[K     |████████████████████████████████| 1.6 MB 51.9 MB/s \n",
            "\u001b[?25hCollecting ctgan<0.6,>=0.5.2\n",
            "  Downloading ctgan-0.5.2-py2.py3-none-any.whl (24 kB)\n",
            "Requirement already satisfied: pandas<2,>=1.1.3 in /usr/local/lib/python3.7/dist-packages (from sdv) (1.3.5)\n",
            "Collecting copulas<0.8,>=0.7.0\n",
            "  Downloading copulas-0.7.0-py2.py3-none-any.whl (53 kB)\n",
            "\u001b[K     |████████████████████████████████| 53 kB 2.0 MB/s \n",
            "\u001b[?25hCollecting rdt<1.3.0,>=1.2.0\n",
            "  Downloading rdt-1.2.1-py2.py3-none-any.whl (61 kB)\n",
            "\u001b[K     |████████████████████████████████| 61 kB 421 kB/s \n",
            "\u001b[?25hCollecting graphviz<1,>=0.13.2\n",
            "  Downloading graphviz-0.20.1-py3-none-any.whl (47 kB)\n",
            "\u001b[K     |████████████████████████████████| 47 kB 5.1 MB/s \n",
            "\u001b[?25hCollecting sdmetrics<0.8,>=0.7.0.dev0\n",
            "  Downloading sdmetrics-0.7.0-py2.py3-none-any.whl (131 kB)\n",
            "\u001b[K     |████████████████████████████████| 131 kB 68.7 MB/s \n",
            "\u001b[?25hCollecting cloudpickle<3.0,>=2.1.0\n",
            "  Downloading cloudpickle-2.2.0-py3-none-any.whl (25 kB)\n",
            "Requirement already satisfied: numpy<2,>=1.20.0 in /usr/local/lib/python3.7/dist-packages (from sdv) (1.21.6)\n",
            "Requirement already satisfied: tqdm<5,>=4.15 in /usr/local/lib/python3.7/dist-packages (from sdv) (4.64.1)\n",
            "Collecting deepecho<0.4,>=0.3.0.post1\n",
            "  Downloading deepecho-0.3.0.post1-py2.py3-none-any.whl (26 kB)\n",
            "Collecting matplotlib<4,>=3.4.0\n",
            "  Downloading matplotlib-3.5.3-cp37-cp37m-manylinux_2_5_x86_64.manylinux1_x86_64.whl (11.2 MB)\n",
            "\u001b[K     |████████████████████████████████| 11.2 MB 53.3 MB/s \n",
            "\u001b[?25hRequirement already satisfied: scipy<2,>=1.5.4 in /usr/local/lib/python3.7/dist-packages (from copulas<0.8,>=0.7.0->sdv) (1.7.3)\n",
            "Requirement already satisfied: scikit-learn<2,>=0.24 in /usr/local/lib/python3.7/dist-packages (from ctgan<0.6,>=0.5.2->sdv) (1.0.2)\n",
            "Requirement already satisfied: torchvision<1,>=0.9.0 in /usr/local/lib/python3.7/dist-packages (from ctgan<0.6,>=0.5.2->sdv) (0.13.1+cu113)\n",
            "Requirement already satisfied: torch<2,>=1.8.0 in /usr/local/lib/python3.7/dist-packages (from ctgan<0.6,>=0.5.2->sdv) (1.12.1+cu113)\n",
            "Requirement already satisfied: packaging<22,>=20 in /usr/local/lib/python3.7/dist-packages (from ctgan<0.6,>=0.5.2->sdv) (21.3)\n",
            "Requirement already satisfied: typing-extensions>=3.7.4.3 in /usr/local/lib/python3.7/dist-packages (from Faker<15,>=10->sdv) (4.1.1)\n",
            "Requirement already satisfied: python-dateutil>=2.4 in /usr/local/lib/python3.7/dist-packages (from Faker<15,>=10->sdv) (2.8.2)\n",
            "Collecting fonttools>=4.22.0\n",
            "  Downloading fonttools-4.37.4-py3-none-any.whl (960 kB)\n",
            "\u001b[K     |████████████████████████████████| 960 kB 49.3 MB/s \n",
            "\u001b[?25hRequirement already satisfied: pyparsing>=2.2.1 in /usr/local/lib/python3.7/dist-packages (from matplotlib<4,>=3.4.0->copulas<0.8,>=0.7.0->sdv) (3.0.9)\n",
            "Requirement already satisfied: kiwisolver>=1.0.1 in /usr/local/lib/python3.7/dist-packages (from matplotlib<4,>=3.4.0->copulas<0.8,>=0.7.0->sdv) (1.4.4)\n",
            "Requirement already satisfied: cycler>=0.10 in /usr/local/lib/python3.7/dist-packages (from matplotlib<4,>=3.4.0->copulas<0.8,>=0.7.0->sdv) (0.11.0)\n",
            "Requirement already satisfied: pillow>=6.2.0 in /usr/local/lib/python3.7/dist-packages (from matplotlib<4,>=3.4.0->copulas<0.8,>=0.7.0->sdv) (7.1.2)\n",
            "Requirement already satisfied: pytz>=2017.3 in /usr/local/lib/python3.7/dist-packages (from pandas<2,>=1.1.3->sdv) (2022.4)\n",
            "Requirement already satisfied: six>=1.5 in /usr/local/lib/python3.7/dist-packages (from python-dateutil>=2.4->Faker<15,>=10->sdv) (1.15.0)\n",
            "Collecting psutil<6,>=5.7\n",
            "  Downloading psutil-5.9.3-cp37-cp37m-manylinux_2_12_x86_64.manylinux2010_x86_64.manylinux_2_17_x86_64.manylinux2014_x86_64.whl (291 kB)\n",
            "\u001b[K     |████████████████████████████████| 291 kB 60.4 MB/s \n",
            "\u001b[?25hCollecting pyyaml<6,>=5.4.1\n",
            "  Downloading PyYAML-5.4.1-cp37-cp37m-manylinux1_x86_64.whl (636 kB)\n",
            "\u001b[K     |████████████████████████████████| 636 kB 51.0 MB/s \n",
            "\u001b[?25hRequirement already satisfied: joblib>=0.11 in /usr/local/lib/python3.7/dist-packages (from scikit-learn<2,>=0.24->ctgan<0.6,>=0.5.2->sdv) (1.2.0)\n",
            "Requirement already satisfied: threadpoolctl>=2.0.0 in /usr/local/lib/python3.7/dist-packages (from scikit-learn<2,>=0.24->ctgan<0.6,>=0.5.2->sdv) (3.1.0)\n",
            "Collecting plotly<6,>=5.10.0\n",
            "  Downloading plotly-5.10.0-py2.py3-none-any.whl (15.2 MB)\n",
            "\u001b[K     |████████████████████████████████| 15.2 MB 39.9 MB/s \n",
            "\u001b[?25hRequirement already satisfied: tenacity>=6.2.0 in /usr/local/lib/python3.7/dist-packages (from plotly<6,>=5.10.0->sdmetrics<0.8,>=0.7.0.dev0->sdv) (8.1.0)\n",
            "Requirement already satisfied: requests in /usr/local/lib/python3.7/dist-packages (from torchvision<1,>=0.9.0->ctgan<0.6,>=0.5.2->sdv) (2.23.0)\n",
            "Requirement already satisfied: idna<3,>=2.5 in /usr/local/lib/python3.7/dist-packages (from requests->torchvision<1,>=0.9.0->ctgan<0.6,>=0.5.2->sdv) (2.10)\n",
            "Requirement already satisfied: urllib3!=1.25.0,!=1.25.1,<1.26,>=1.21.1 in /usr/local/lib/python3.7/dist-packages (from requests->torchvision<1,>=0.9.0->ctgan<0.6,>=0.5.2->sdv) (1.24.3)\n",
            "Requirement already satisfied: chardet<4,>=3.0.2 in /usr/local/lib/python3.7/dist-packages (from requests->torchvision<1,>=0.9.0->ctgan<0.6,>=0.5.2->sdv) (3.0.4)\n",
            "Requirement already satisfied: certifi>=2017.4.17 in /usr/local/lib/python3.7/dist-packages (from requests->torchvision<1,>=0.9.0->ctgan<0.6,>=0.5.2->sdv) (2022.9.24)\n",
            "Installing collected packages: fonttools, pyyaml, psutil, matplotlib, Faker, rdt, plotly, copulas, sdmetrics, graphviz, deepecho, ctgan, cloudpickle, sdv\n",
            "  Attempting uninstall: pyyaml\n",
            "    Found existing installation: PyYAML 6.0\n",
            "    Uninstalling PyYAML-6.0:\n",
            "      Successfully uninstalled PyYAML-6.0\n",
            "  Attempting uninstall: psutil\n",
            "    Found existing installation: psutil 5.4.8\n",
            "    Uninstalling psutil-5.4.8:\n",
            "      Successfully uninstalled psutil-5.4.8\n",
            "  Attempting uninstall: matplotlib\n",
            "    Found existing installation: matplotlib 3.2.2\n",
            "    Uninstalling matplotlib-3.2.2:\n",
            "      Successfully uninstalled matplotlib-3.2.2\n",
            "  Attempting uninstall: plotly\n",
            "    Found existing installation: plotly 5.5.0\n",
            "    Uninstalling plotly-5.5.0:\n",
            "      Successfully uninstalled plotly-5.5.0\n",
            "  Attempting uninstall: graphviz\n",
            "    Found existing installation: graphviz 0.10.1\n",
            "    Uninstalling graphviz-0.10.1:\n",
            "      Successfully uninstalled graphviz-0.10.1\n",
            "  Attempting uninstall: cloudpickle\n",
            "    Found existing installation: cloudpickle 1.5.0\n",
            "    Uninstalling cloudpickle-1.5.0:\n",
            "      Successfully uninstalled cloudpickle-1.5.0\n",
            "Successfully installed Faker-14.2.1 cloudpickle-2.2.0 copulas-0.7.0 ctgan-0.5.2 deepecho-0.3.0.post1 fonttools-4.37.4 graphviz-0.20.1 matplotlib-3.5.3 plotly-5.10.0 psutil-5.9.3 pyyaml-5.4.1 rdt-1.2.1 sdmetrics-0.7.0 sdv-0.17.1\n"
          ]
        },
        {
          "output_type": "display_data",
          "data": {
            "application/vnd.colab-display-data+json": {
              "pip_warning": {
                "packages": [
                  "matplotlib",
                  "mpl_toolkits",
                  "psutil"
                ]
              }
            }
          },
          "metadata": {}
        },
        {
          "output_type": "stream",
          "name": "stdout",
          "text": [
            "Looking in indexes: https://pypi.org/simple, https://us-python.pkg.dev/colab-wheels/public/simple/\n",
            "Collecting table-evaluator\n",
            "  Downloading table_evaluator-1.4.2-py3-none-any.whl (20 kB)\n",
            "Requirement already satisfied: pandas in /usr/local/lib/python3.7/dist-packages (from table-evaluator) (1.3.5)\n",
            "Requirement already satisfied: numpy in /usr/local/lib/python3.7/dist-packages (from table-evaluator) (1.21.6)\n",
            "Requirement already satisfied: psutil in /usr/local/lib/python3.7/dist-packages (from table-evaluator) (5.9.3)\n",
            "Collecting seaborn<=0.11.1\n",
            "  Downloading seaborn-0.11.1-py3-none-any.whl (285 kB)\n",
            "\u001b[K     |████████████████████████████████| 285 kB 8.5 MB/s \n",
            "\u001b[?25hRequirement already satisfied: scikit-learn in /usr/local/lib/python3.7/dist-packages (from table-evaluator) (1.0.2)\n",
            "Requirement already satisfied: matplotlib in /usr/local/lib/python3.7/dist-packages (from table-evaluator) (3.5.3)\n",
            "Collecting dython==0.5.1\n",
            "  Downloading dython-0.5.1-py3-none-any.whl (14 kB)\n",
            "Requirement already satisfied: scipy in /usr/local/lib/python3.7/dist-packages (from table-evaluator) (1.7.3)\n",
            "Requirement already satisfied: tqdm in /usr/local/lib/python3.7/dist-packages (from table-evaluator) (4.64.1)\n",
            "Requirement already satisfied: cycler>=0.10 in /usr/local/lib/python3.7/dist-packages (from matplotlib->table-evaluator) (0.11.0)\n",
            "Requirement already satisfied: python-dateutil>=2.7 in /usr/local/lib/python3.7/dist-packages (from matplotlib->table-evaluator) (2.8.2)\n",
            "Requirement already satisfied: packaging>=20.0 in /usr/local/lib/python3.7/dist-packages (from matplotlib->table-evaluator) (21.3)\n",
            "Requirement already satisfied: kiwisolver>=1.0.1 in /usr/local/lib/python3.7/dist-packages (from matplotlib->table-evaluator) (1.4.4)\n",
            "Requirement already satisfied: fonttools>=4.22.0 in /usr/local/lib/python3.7/dist-packages (from matplotlib->table-evaluator) (4.37.4)\n",
            "Requirement already satisfied: pillow>=6.2.0 in /usr/local/lib/python3.7/dist-packages (from matplotlib->table-evaluator) (7.1.2)\n",
            "Requirement already satisfied: pyparsing>=2.2.1 in /usr/local/lib/python3.7/dist-packages (from matplotlib->table-evaluator) (3.0.9)\n",
            "Requirement already satisfied: typing-extensions in /usr/local/lib/python3.7/dist-packages (from kiwisolver>=1.0.1->matplotlib->table-evaluator) (4.1.1)\n",
            "Requirement already satisfied: pytz>=2017.3 in /usr/local/lib/python3.7/dist-packages (from pandas->table-evaluator) (2022.4)\n",
            "Requirement already satisfied: six>=1.5 in /usr/local/lib/python3.7/dist-packages (from python-dateutil>=2.7->matplotlib->table-evaluator) (1.15.0)\n",
            "Requirement already satisfied: joblib>=0.11 in /usr/local/lib/python3.7/dist-packages (from scikit-learn->table-evaluator) (1.2.0)\n",
            "Requirement already satisfied: threadpoolctl>=2.0.0 in /usr/local/lib/python3.7/dist-packages (from scikit-learn->table-evaluator) (3.1.0)\n",
            "Installing collected packages: seaborn, dython, table-evaluator\n",
            "  Attempting uninstall: seaborn\n",
            "    Found existing installation: seaborn 0.11.2\n",
            "    Uninstalling seaborn-0.11.2:\n",
            "      Successfully uninstalled seaborn-0.11.2\n",
            "Successfully installed dython-0.5.1 seaborn-0.11.1 table-evaluator-1.4.2\n"
          ]
        }
      ],
      "source": [
        "!pip install sdv\n",
        "!pip install table-evaluator"
      ]
    },
    {
      "cell_type": "code",
      "source": [
        "from sdv import load_demo\n",
        "tables = load_demo()"
      ],
      "metadata": {
        "id": "xnhMzNhO7Zuf"
      },
      "execution_count": 53,
      "outputs": []
    },
    {
      "cell_type": "code",
      "source": [
        "tables"
      ],
      "metadata": {
        "colab": {
          "base_uri": "https://localhost:8080/"
        },
        "id": "utZCEu_n-Gbt",
        "outputId": "8aab152b-66db-4e93-9766-e6e55bc0b41e"
      },
      "execution_count": 54,
      "outputs": [
        {
          "output_type": "execute_result",
          "data": {
            "text/plain": [
              "{'users':    user_id country gender  age\n",
              " 0        0      US      M   34\n",
              " 1        1      UK      F   23\n",
              " 2        2      ES   None   44\n",
              " 3        3      UK      M   22\n",
              " 4        4      US      F   54\n",
              " 5        5      DE      M   57\n",
              " 6        6      BG      F   45\n",
              " 7        7      ES   None   41\n",
              " 8        8      FR      F   23\n",
              " 9        9      UK   None   30,\n",
              " 'sessions':    session_id  user_id  device       os  minutes\n",
              " 0           0        0  mobile  android       23\n",
              " 1           1        1  tablet      ios       12\n",
              " 2           2        2  tablet  android        8\n",
              " 3           3        3  mobile  android       13\n",
              " 4           4        4  mobile      ios        9\n",
              " 5           5        5  mobile  android       32\n",
              " 6           6        6  mobile      ios        7\n",
              " 7           7        7  tablet      ios       21\n",
              " 8           8        8  mobile      ios       29\n",
              " 9           9        9  tablet      ios       34,\n",
              " 'transactions':    transaction_id  session_id           timestamp  amount  cancelled\n",
              " 0               0           0 2019-01-01 12:34:32   100.0      False\n",
              " 1               1           1 2019-01-01 12:42:21    55.3      False\n",
              " 2               2           2 2019-01-07 17:23:11    79.5      False\n",
              " 3               3           3 2019-01-10 11:08:57   112.1       True\n",
              " 4               4           4 2019-01-10 21:54:08   110.0       True\n",
              " 5               5           5 2019-01-11 11:21:20    76.3      False\n",
              " 6               6           6 2019-01-22 14:44:10    89.5      False\n",
              " 7               7           7 2019-01-23 10:14:09   132.1       True\n",
              " 8               8           8 2019-01-27 16:09:17    68.0      False\n",
              " 9               9           9 2019-01-29 12:10:48    99.9      False}"
            ]
          },
          "metadata": {},
          "execution_count": 54
        }
      ]
    },
    {
      "cell_type": "code",
      "source": [
        "from sdv import Metadata\n",
        "metadata = Metadata()"
      ],
      "metadata": {
        "id": "LsvlcdYq-Hd4"
      },
      "execution_count": 55,
      "outputs": []
    },
    {
      "cell_type": "code",
      "source": [
        "metadata.add_table(\n",
        "    name='users',\n",
        "    data=tables['users'],\n",
        "    primary_key = 'user_id'\n",
        ")\n",
        "\n",
        "metadata"
      ],
      "metadata": {
        "colab": {
          "base_uri": "https://localhost:8080/"
        },
        "id": "zgD0UiBk_-rS",
        "outputId": "a87b1fd0-7995-49df-80c6-16b1b7bc88e6"
      },
      "execution_count": 56,
      "outputs": [
        {
          "output_type": "execute_result",
          "data": {
            "text/plain": [
              "Metadata\n",
              "  root_path: .\n",
              "  tables: ['users']\n",
              "  relationships:"
            ]
          },
          "metadata": {},
          "execution_count": 56
        }
      ]
    },
    {
      "cell_type": "code",
      "source": [
        "metadata.visualize()"
      ],
      "metadata": {
        "colab": {
          "base_uri": "https://localhost:8080/",
          "height": 185
        },
        "id": "BdeoozEFAQMh",
        "outputId": "38c4fd90-0195-4fab-88b6-38e859c8856b"
      },
      "execution_count": 57,
      "outputs": [
        {
          "output_type": "execute_result",
          "data": {
            "image/svg+xml": "<?xml version=\"1.0\" encoding=\"UTF-8\" standalone=\"no\"?>\n<!DOCTYPE svg PUBLIC \"-//W3C//DTD SVG 1.1//EN\"\n \"http://www.w3.org/Graphics/SVG/1.1/DTD/svg11.dtd\">\n<!-- Generated by graphviz version 2.40.1 (20161225.0304)\n -->\n<!-- Title: Metadata Pages: 1 -->\n<svg width=\"163pt\" height=\"123pt\"\n viewBox=\"0.00 0.00 163.00 123.00\" xmlns=\"http://www.w3.org/2000/svg\" xmlns:xlink=\"http://www.w3.org/1999/xlink\">\n<g id=\"graph0\" class=\"graph\" transform=\"scale(1 1) rotate(0) translate(4 119)\">\n<title>Metadata</title>\n<polygon fill=\"#ffffff\" stroke=\"transparent\" points=\"-4,4 -4,-119 159,-119 159,4 -4,4\"/>\n<!-- users -->\n<g id=\"node1\" class=\"node\">\n<title>users</title>\n<path fill=\"#ffec8b\" stroke=\"#000000\" d=\"M12,-.5C12,-.5 143,-.5 143,-.5 149,-.5 155,-6.5 155,-12.5 155,-12.5 155,-102.5 155,-102.5 155,-108.5 149,-114.5 143,-114.5 143,-114.5 12,-114.5 12,-114.5 6,-114.5 0,-108.5 0,-102.5 0,-102.5 0,-12.5 0,-12.5 0,-6.5 6,-.5 12,-.5\"/>\n<text text-anchor=\"middle\" x=\"77.5\" y=\"-99.3\" font-family=\"Times,serif\" font-size=\"14.00\" fill=\"#000000\">users</text>\n<polyline fill=\"none\" stroke=\"#000000\" points=\"0,-91.5 155,-91.5 \"/>\n<text text-anchor=\"start\" x=\"8\" y=\"-76.3\" font-family=\"Times,serif\" font-size=\"14.00\" fill=\"#000000\">user_id : id &#45; integer</text>\n<text text-anchor=\"start\" x=\"8\" y=\"-61.3\" font-family=\"Times,serif\" font-size=\"14.00\" fill=\"#000000\">country : categorical</text>\n<text text-anchor=\"start\" x=\"8\" y=\"-46.3\" font-family=\"Times,serif\" font-size=\"14.00\" fill=\"#000000\">gender : categorical</text>\n<text text-anchor=\"start\" x=\"8\" y=\"-31.3\" font-family=\"Times,serif\" font-size=\"14.00\" fill=\"#000000\">age : numerical &#45; integer</text>\n<polyline fill=\"none\" stroke=\"#000000\" points=\"0,-23.5 155,-23.5 \"/>\n<text text-anchor=\"start\" x=\"8\" y=\"-8.3\" font-family=\"Times,serif\" font-size=\"14.00\" fill=\"#000000\">Primary key: user_id</text>\n</g>\n</g>\n</svg>\n",
            "text/plain": [
              "<graphviz.graphs.Digraph at 0x7f9d87530c50>"
            ]
          },
          "metadata": {},
          "execution_count": 57
        }
      ]
    },
    {
      "cell_type": "code",
      "source": [
        "metadata.get_table_meta('users')"
      ],
      "metadata": {
        "colab": {
          "base_uri": "https://localhost:8080/"
        },
        "id": "ZbaUx_XSAhXD",
        "outputId": "1f3072c8-1ea4-4795-ab4a-307c0bacd23f"
      },
      "execution_count": 58,
      "outputs": [
        {
          "output_type": "execute_result",
          "data": {
            "text/plain": [
              "{'fields': {'user_id': {'type': 'id', 'subtype': 'integer'},\n",
              "  'country': {'type': 'categorical'},\n",
              "  'gender': {'type': 'categorical'},\n",
              "  'age': {'type': 'numerical', 'subtype': 'integer'}},\n",
              " 'primary_key': 'user_id'}"
            ]
          },
          "metadata": {},
          "execution_count": 58
        }
      ]
    },
    {
      "cell_type": "code",
      "source": [
        "metadata.add_table(\n",
        "    name='sessions',\n",
        "    data=tables['sessions'],\n",
        "    primary_key='session_id',\n",
        "    parent='users',\n",
        "    foreign_key='user_id'\n",
        ")"
      ],
      "metadata": {
        "id": "Ai73wuiDBSRA"
      },
      "execution_count": 59,
      "outputs": []
    },
    {
      "cell_type": "code",
      "source": [
        "metadata"
      ],
      "metadata": {
        "colab": {
          "base_uri": "https://localhost:8080/"
        },
        "id": "DUML9Blou3C-",
        "outputId": "bed8d94a-f076-473a-9e77-b2c473e19b8d"
      },
      "execution_count": 60,
      "outputs": [
        {
          "output_type": "execute_result",
          "data": {
            "text/plain": [
              "Metadata\n",
              "  root_path: .\n",
              "  tables: ['users', 'sessions']\n",
              "  relationships:\n",
              "    sessions.user_id -> users.user_id"
            ]
          },
          "metadata": {},
          "execution_count": 60
        }
      ]
    },
    {
      "cell_type": "code",
      "source": [
        "metadata.visualize()"
      ],
      "metadata": {
        "colab": {
          "base_uri": "https://localhost:8080/",
          "height": 446
        },
        "id": "6EN9EppSvM_t",
        "outputId": "7a7471ac-479b-4ece-fdc8-e62072caad50"
      },
      "execution_count": 61,
      "outputs": [
        {
          "output_type": "execute_result",
          "data": {
            "image/svg+xml": "<?xml version=\"1.0\" encoding=\"UTF-8\" standalone=\"no\"?>\n<!DOCTYPE svg PUBLIC \"-//W3C//DTD SVG 1.1//EN\"\n \"http://www.w3.org/Graphics/SVG/1.1/DTD/svg11.dtd\">\n<!-- Generated by graphviz version 2.40.1 (20161225.0304)\n -->\n<!-- Title: Metadata Pages: 1 -->\n<svg width=\"291pt\" height=\"319pt\"\n viewBox=\"0.00 0.00 291.00 319.00\" xmlns=\"http://www.w3.org/2000/svg\" xmlns:xlink=\"http://www.w3.org/1999/xlink\">\n<g id=\"graph0\" class=\"graph\" transform=\"scale(1 1) rotate(0) translate(4 315)\">\n<title>Metadata</title>\n<polygon fill=\"#ffffff\" stroke=\"transparent\" points=\"-4,4 -4,-315 287,-315 287,4 -4,4\"/>\n<!-- users -->\n<g id=\"node1\" class=\"node\">\n<title>users</title>\n<path fill=\"#ffec8b\" stroke=\"#000000\" d=\"M24.5,-196.5C24.5,-196.5 155.5,-196.5 155.5,-196.5 161.5,-196.5 167.5,-202.5 167.5,-208.5 167.5,-208.5 167.5,-298.5 167.5,-298.5 167.5,-304.5 161.5,-310.5 155.5,-310.5 155.5,-310.5 24.5,-310.5 24.5,-310.5 18.5,-310.5 12.5,-304.5 12.5,-298.5 12.5,-298.5 12.5,-208.5 12.5,-208.5 12.5,-202.5 18.5,-196.5 24.5,-196.5\"/>\n<text text-anchor=\"middle\" x=\"90\" y=\"-295.3\" font-family=\"Times,serif\" font-size=\"14.00\" fill=\"#000000\">users</text>\n<polyline fill=\"none\" stroke=\"#000000\" points=\"12.5,-287.5 167.5,-287.5 \"/>\n<text text-anchor=\"start\" x=\"20.5\" y=\"-272.3\" font-family=\"Times,serif\" font-size=\"14.00\" fill=\"#000000\">user_id : id &#45; integer</text>\n<text text-anchor=\"start\" x=\"20.5\" y=\"-257.3\" font-family=\"Times,serif\" font-size=\"14.00\" fill=\"#000000\">country : categorical</text>\n<text text-anchor=\"start\" x=\"20.5\" y=\"-242.3\" font-family=\"Times,serif\" font-size=\"14.00\" fill=\"#000000\">gender : categorical</text>\n<text text-anchor=\"start\" x=\"20.5\" y=\"-227.3\" font-family=\"Times,serif\" font-size=\"14.00\" fill=\"#000000\">age : numerical &#45; integer</text>\n<polyline fill=\"none\" stroke=\"#000000\" points=\"12.5,-219.5 167.5,-219.5 \"/>\n<text text-anchor=\"start\" x=\"20.5\" y=\"-204.3\" font-family=\"Times,serif\" font-size=\"14.00\" fill=\"#000000\">Primary key: user_id</text>\n</g>\n<!-- sessions -->\n<g id=\"node2\" class=\"node\">\n<title>sessions</title>\n<path fill=\"#ffec8b\" stroke=\"#000000\" d=\"M12,-.5C12,-.5 168,-.5 168,-.5 174,-.5 180,-6.5 180,-12.5 180,-12.5 180,-132.5 180,-132.5 180,-138.5 174,-144.5 168,-144.5 168,-144.5 12,-144.5 12,-144.5 6,-144.5 0,-138.5 0,-132.5 0,-132.5 0,-12.5 0,-12.5 0,-6.5 6,-.5 12,-.5\"/>\n<text text-anchor=\"middle\" x=\"90\" y=\"-129.3\" font-family=\"Times,serif\" font-size=\"14.00\" fill=\"#000000\">sessions</text>\n<polyline fill=\"none\" stroke=\"#000000\" points=\"0,-121.5 180,-121.5 \"/>\n<text text-anchor=\"start\" x=\"8\" y=\"-106.3\" font-family=\"Times,serif\" font-size=\"14.00\" fill=\"#000000\">session_id : id &#45; integer</text>\n<text text-anchor=\"start\" x=\"8\" y=\"-91.3\" font-family=\"Times,serif\" font-size=\"14.00\" fill=\"#000000\">user_id : id &#45; integer</text>\n<text text-anchor=\"start\" x=\"8\" y=\"-76.3\" font-family=\"Times,serif\" font-size=\"14.00\" fill=\"#000000\">device : categorical</text>\n<text text-anchor=\"start\" x=\"8\" y=\"-61.3\" font-family=\"Times,serif\" font-size=\"14.00\" fill=\"#000000\">os : categorical</text>\n<text text-anchor=\"start\" x=\"8\" y=\"-46.3\" font-family=\"Times,serif\" font-size=\"14.00\" fill=\"#000000\">minutes : numerical &#45; integer</text>\n<polyline fill=\"none\" stroke=\"#000000\" points=\"0,-38.5 180,-38.5 \"/>\n<text text-anchor=\"start\" x=\"8\" y=\"-23.3\" font-family=\"Times,serif\" font-size=\"14.00\" fill=\"#000000\">Primary key: session_id</text>\n<text text-anchor=\"start\" x=\"8\" y=\"-8.3\" font-family=\"Times,serif\" font-size=\"14.00\" fill=\"#000000\">Foreign key (users): user_id</text>\n</g>\n<!-- users&#45;&gt;sessions -->\n<g id=\"edge1\" class=\"edge\">\n<title>users&#45;&gt;sessions</title>\n<path fill=\"none\" stroke=\"#000000\" d=\"M90,-196.2305C90,-183.0626 90,-168.8049 90,-154.8104\"/>\n<polygon fill=\"none\" stroke=\"#000000\" points=\"93.5,-144.6861 90.0001,-154.6862 86.5,-144.6862 93.5,-144.6861\"/>\n<text text-anchor=\"middle\" x=\"186.5\" y=\"-166.8\" font-family=\"Times,serif\" font-size=\"14.00\" fill=\"#000000\"> &#160;&#160;sessions.user_id &gt; users.user_id</text>\n</g>\n</g>\n</svg>\n",
            "text/plain": [
              "<graphviz.graphs.Digraph at 0x7f9d87519390>"
            ]
          },
          "metadata": {},
          "execution_count": 61
        }
      ]
    },
    {
      "cell_type": "code",
      "source": [
        "metadata.add_table(\n",
        "    name='transations',\n",
        "    data=tables['transactions'],\n",
        "    primary_key='transaction_id',\n",
        "    parent='sessions',\n",
        "    foreign_key='session_id'\n",
        ")"
      ],
      "metadata": {
        "id": "W_YGzubnvPbq"
      },
      "execution_count": 62,
      "outputs": []
    },
    {
      "cell_type": "code",
      "source": [
        "metadata.visualize()"
      ],
      "metadata": {
        "colab": {
          "base_uri": "https://localhost:8080/",
          "height": 708
        },
        "id": "bxB5FdLdvyv1",
        "outputId": "2d3b584c-7b0c-4668-fec3-b8accdba9fe7"
      },
      "execution_count": 63,
      "outputs": [
        {
          "output_type": "execute_result",
          "data": {
            "image/svg+xml": "<?xml version=\"1.0\" encoding=\"UTF-8\" standalone=\"no\"?>\n<!DOCTYPE svg PUBLIC \"-//W3C//DTD SVG 1.1//EN\"\n \"http://www.w3.org/Graphics/SVG/1.1/DTD/svg11.dtd\">\n<!-- Generated by graphviz version 2.40.1 (20161225.0304)\n -->\n<!-- Title: Metadata Pages: 1 -->\n<svg width=\"374pt\" height=\"515pt\"\n viewBox=\"0.00 0.00 374.00 515.00\" xmlns=\"http://www.w3.org/2000/svg\" xmlns:xlink=\"http://www.w3.org/1999/xlink\">\n<g id=\"graph0\" class=\"graph\" transform=\"scale(1 1) rotate(0) translate(4 511)\">\n<title>Metadata</title>\n<polygon fill=\"#ffffff\" stroke=\"transparent\" points=\"-4,4 -4,-511 370,-511 370,4 -4,4\"/>\n<!-- users -->\n<g id=\"node1\" class=\"node\">\n<title>users</title>\n<path fill=\"#ffec8b\" stroke=\"#000000\" d=\"M40.5,-392.5C40.5,-392.5 171.5,-392.5 171.5,-392.5 177.5,-392.5 183.5,-398.5 183.5,-404.5 183.5,-404.5 183.5,-494.5 183.5,-494.5 183.5,-500.5 177.5,-506.5 171.5,-506.5 171.5,-506.5 40.5,-506.5 40.5,-506.5 34.5,-506.5 28.5,-500.5 28.5,-494.5 28.5,-494.5 28.5,-404.5 28.5,-404.5 28.5,-398.5 34.5,-392.5 40.5,-392.5\"/>\n<text text-anchor=\"middle\" x=\"106\" y=\"-491.3\" font-family=\"Times,serif\" font-size=\"14.00\" fill=\"#000000\">users</text>\n<polyline fill=\"none\" stroke=\"#000000\" points=\"28.5,-483.5 183.5,-483.5 \"/>\n<text text-anchor=\"start\" x=\"36.5\" y=\"-468.3\" font-family=\"Times,serif\" font-size=\"14.00\" fill=\"#000000\">user_id : id &#45; integer</text>\n<text text-anchor=\"start\" x=\"36.5\" y=\"-453.3\" font-family=\"Times,serif\" font-size=\"14.00\" fill=\"#000000\">country : categorical</text>\n<text text-anchor=\"start\" x=\"36.5\" y=\"-438.3\" font-family=\"Times,serif\" font-size=\"14.00\" fill=\"#000000\">gender : categorical</text>\n<text text-anchor=\"start\" x=\"36.5\" y=\"-423.3\" font-family=\"Times,serif\" font-size=\"14.00\" fill=\"#000000\">age : numerical &#45; integer</text>\n<polyline fill=\"none\" stroke=\"#000000\" points=\"28.5,-415.5 183.5,-415.5 \"/>\n<text text-anchor=\"start\" x=\"36.5\" y=\"-400.3\" font-family=\"Times,serif\" font-size=\"14.00\" fill=\"#000000\">Primary key: user_id</text>\n</g>\n<!-- sessions -->\n<g id=\"node2\" class=\"node\">\n<title>sessions</title>\n<path fill=\"#ffec8b\" stroke=\"#000000\" d=\"M28,-196.5C28,-196.5 184,-196.5 184,-196.5 190,-196.5 196,-202.5 196,-208.5 196,-208.5 196,-328.5 196,-328.5 196,-334.5 190,-340.5 184,-340.5 184,-340.5 28,-340.5 28,-340.5 22,-340.5 16,-334.5 16,-328.5 16,-328.5 16,-208.5 16,-208.5 16,-202.5 22,-196.5 28,-196.5\"/>\n<text text-anchor=\"middle\" x=\"106\" y=\"-325.3\" font-family=\"Times,serif\" font-size=\"14.00\" fill=\"#000000\">sessions</text>\n<polyline fill=\"none\" stroke=\"#000000\" points=\"16,-317.5 196,-317.5 \"/>\n<text text-anchor=\"start\" x=\"24\" y=\"-302.3\" font-family=\"Times,serif\" font-size=\"14.00\" fill=\"#000000\">session_id : id &#45; integer</text>\n<text text-anchor=\"start\" x=\"24\" y=\"-287.3\" font-family=\"Times,serif\" font-size=\"14.00\" fill=\"#000000\">user_id : id &#45; integer</text>\n<text text-anchor=\"start\" x=\"24\" y=\"-272.3\" font-family=\"Times,serif\" font-size=\"14.00\" fill=\"#000000\">device : categorical</text>\n<text text-anchor=\"start\" x=\"24\" y=\"-257.3\" font-family=\"Times,serif\" font-size=\"14.00\" fill=\"#000000\">os : categorical</text>\n<text text-anchor=\"start\" x=\"24\" y=\"-242.3\" font-family=\"Times,serif\" font-size=\"14.00\" fill=\"#000000\">minutes : numerical &#45; integer</text>\n<polyline fill=\"none\" stroke=\"#000000\" points=\"16,-234.5 196,-234.5 \"/>\n<text text-anchor=\"start\" x=\"24\" y=\"-219.3\" font-family=\"Times,serif\" font-size=\"14.00\" fill=\"#000000\">Primary key: session_id</text>\n<text text-anchor=\"start\" x=\"24\" y=\"-204.3\" font-family=\"Times,serif\" font-size=\"14.00\" fill=\"#000000\">Foreign key (users): user_id</text>\n</g>\n<!-- users&#45;&gt;sessions -->\n<g id=\"edge1\" class=\"edge\">\n<title>users&#45;&gt;sessions</title>\n<path fill=\"none\" stroke=\"#000000\" d=\"M106,-392.2305C106,-379.0626 106,-364.8049 106,-350.8104\"/>\n<polygon fill=\"none\" stroke=\"#000000\" points=\"109.5,-340.6861 106.0001,-350.6862 102.5,-340.6862 109.5,-340.6861\"/>\n<text text-anchor=\"middle\" x=\"202.5\" y=\"-362.8\" font-family=\"Times,serif\" font-size=\"14.00\" fill=\"#000000\"> &#160;&#160;sessions.user_id &gt; users.user_id</text>\n</g>\n<!-- transations -->\n<g id=\"node3\" class=\"node\">\n<title>transations</title>\n<path fill=\"#ffec8b\" stroke=\"#000000\" d=\"M12,-.5C12,-.5 200,-.5 200,-.5 206,-.5 212,-6.5 212,-12.5 212,-12.5 212,-132.5 212,-132.5 212,-138.5 206,-144.5 200,-144.5 200,-144.5 12,-144.5 12,-144.5 6,-144.5 0,-138.5 0,-132.5 0,-132.5 0,-12.5 0,-12.5 0,-6.5 6,-.5 12,-.5\"/>\n<text text-anchor=\"middle\" x=\"106\" y=\"-129.3\" font-family=\"Times,serif\" font-size=\"14.00\" fill=\"#000000\">transations</text>\n<polyline fill=\"none\" stroke=\"#000000\" points=\"0,-121.5 212,-121.5 \"/>\n<text text-anchor=\"start\" x=\"8\" y=\"-106.3\" font-family=\"Times,serif\" font-size=\"14.00\" fill=\"#000000\">transaction_id : id &#45; integer</text>\n<text text-anchor=\"start\" x=\"8\" y=\"-91.3\" font-family=\"Times,serif\" font-size=\"14.00\" fill=\"#000000\">session_id : id &#45; integer</text>\n<text text-anchor=\"start\" x=\"8\" y=\"-76.3\" font-family=\"Times,serif\" font-size=\"14.00\" fill=\"#000000\">timestamp : datetime</text>\n<text text-anchor=\"start\" x=\"8\" y=\"-61.3\" font-family=\"Times,serif\" font-size=\"14.00\" fill=\"#000000\">amount : numerical &#45; float</text>\n<text text-anchor=\"start\" x=\"8\" y=\"-46.3\" font-family=\"Times,serif\" font-size=\"14.00\" fill=\"#000000\">cancelled : boolean</text>\n<polyline fill=\"none\" stroke=\"#000000\" points=\"0,-38.5 212,-38.5 \"/>\n<text text-anchor=\"start\" x=\"8\" y=\"-23.3\" font-family=\"Times,serif\" font-size=\"14.00\" fill=\"#000000\">Primary key: transaction_id</text>\n<text text-anchor=\"start\" x=\"8\" y=\"-8.3\" font-family=\"Times,serif\" font-size=\"14.00\" fill=\"#000000\">Foreign key (sessions): session_id</text>\n</g>\n<!-- sessions&#45;&gt;transations -->\n<g id=\"edge2\" class=\"edge\">\n<title>sessions&#45;&gt;transations</title>\n<path fill=\"none\" stroke=\"#000000\" d=\"M106,-196.3518C106,-182.9568 106,-168.8678 106,-155.187\"/>\n<polygon fill=\"none\" stroke=\"#000000\" points=\"109.5,-144.823 106.0001,-154.8231 102.5,-144.8231 109.5,-144.823\"/>\n<text text-anchor=\"middle\" x=\"236\" y=\"-166.8\" font-family=\"Times,serif\" font-size=\"14.00\" fill=\"#000000\"> &#160;&#160;transations.session_id &gt; sessions.session_id</text>\n</g>\n</g>\n</svg>\n",
            "text/plain": [
              "<graphviz.graphs.Digraph at 0x7f9d87584210>"
            ]
          },
          "metadata": {},
          "execution_count": 63
        }
      ]
    },
    {
      "cell_type": "code",
      "source": [
        "metadata.to_json('demo_metadata.json')"
      ],
      "metadata": {
        "id": "CQgjJJGkwP4E"
      },
      "execution_count": 64,
      "outputs": []
    },
    {
      "cell_type": "code",
      "source": [
        "with open('demo_metadata.json') as meta_file:\n",
        "  print(meta_file.read())"
      ],
      "metadata": {
        "colab": {
          "base_uri": "https://localhost:8080/"
        },
        "id": "tLKv0cNbyxIX",
        "outputId": "c6d2ede8-cc61-42f7-b249-ce15d9ecd83a"
      },
      "execution_count": 65,
      "outputs": [
        {
          "output_type": "stream",
          "name": "stdout",
          "text": [
            "{\n",
            "    \"tables\": {\n",
            "        \"users\": {\n",
            "            \"fields\": {\n",
            "                \"user_id\": {\n",
            "                    \"type\": \"id\",\n",
            "                    \"subtype\": \"integer\"\n",
            "                },\n",
            "                \"country\": {\n",
            "                    \"type\": \"categorical\"\n",
            "                },\n",
            "                \"gender\": {\n",
            "                    \"type\": \"categorical\"\n",
            "                },\n",
            "                \"age\": {\n",
            "                    \"type\": \"numerical\",\n",
            "                    \"subtype\": \"integer\"\n",
            "                }\n",
            "            },\n",
            "            \"primary_key\": \"user_id\"\n",
            "        },\n",
            "        \"sessions\": {\n",
            "            \"fields\": {\n",
            "                \"session_id\": {\n",
            "                    \"type\": \"id\",\n",
            "                    \"subtype\": \"integer\"\n",
            "                },\n",
            "                \"user_id\": {\n",
            "                    \"type\": \"id\",\n",
            "                    \"subtype\": \"integer\",\n",
            "                    \"ref\": {\n",
            "                        \"table\": \"users\",\n",
            "                        \"field\": \"user_id\"\n",
            "                    }\n",
            "                },\n",
            "                \"device\": {\n",
            "                    \"type\": \"categorical\"\n",
            "                },\n",
            "                \"os\": {\n",
            "                    \"type\": \"categorical\"\n",
            "                },\n",
            "                \"minutes\": {\n",
            "                    \"type\": \"numerical\",\n",
            "                    \"subtype\": \"integer\"\n",
            "                }\n",
            "            },\n",
            "            \"primary_key\": \"session_id\"\n",
            "        },\n",
            "        \"transations\": {\n",
            "            \"fields\": {\n",
            "                \"transaction_id\": {\n",
            "                    \"type\": \"id\",\n",
            "                    \"subtype\": \"integer\"\n",
            "                },\n",
            "                \"session_id\": {\n",
            "                    \"type\": \"id\",\n",
            "                    \"subtype\": \"integer\",\n",
            "                    \"ref\": {\n",
            "                        \"table\": \"sessions\",\n",
            "                        \"field\": \"session_id\"\n",
            "                    }\n",
            "                },\n",
            "                \"timestamp\": {\n",
            "                    \"type\": \"datetime\"\n",
            "                },\n",
            "                \"amount\": {\n",
            "                    \"type\": \"numerical\",\n",
            "                    \"subtype\": \"float\"\n",
            "                },\n",
            "                \"cancelled\": {\n",
            "                    \"type\": \"boolean\"\n",
            "                }\n",
            "            },\n",
            "            \"primary_key\": \"transaction_id\"\n",
            "        }\n",
            "    }\n",
            "}\n"
          ]
        }
      ]
    },
    {
      "cell_type": "code",
      "source": [
        "loaded = Metadata('demo_metadata.json')\n",
        "loaded"
      ],
      "metadata": {
        "colab": {
          "base_uri": "https://localhost:8080/"
        },
        "id": "JvdHP2Lgy4HJ",
        "outputId": "f677a46b-2993-4405-8ed2-fd8dfeec6598"
      },
      "execution_count": 66,
      "outputs": [
        {
          "output_type": "execute_result",
          "data": {
            "text/plain": [
              "Metadata\n",
              "  root_path: \n",
              "  tables: ['users', 'sessions', 'transations']\n",
              "  relationships:\n",
              "    sessions.user_id -> users.user_id\n",
              "    transations.session_id -> sessions.session_id"
            ]
          },
          "metadata": {},
          "execution_count": 66
        }
      ]
    },
    {
      "cell_type": "code",
      "source": [
        "from sdv import load_demo\n",
        "\n",
        "metadata, tables = load_demo(metadata=True)"
      ],
      "metadata": {
        "id": "tx7CFOCfzHxc"
      },
      "execution_count": 67,
      "outputs": []
    },
    {
      "cell_type": "code",
      "source": [
        "metadata"
      ],
      "metadata": {
        "colab": {
          "base_uri": "https://localhost:8080/"
        },
        "id": "JeDt5j9Czhie",
        "outputId": "add1e81e-5b43-4f7e-d25c-71375e9014bc"
      },
      "execution_count": 68,
      "outputs": [
        {
          "output_type": "execute_result",
          "data": {
            "text/plain": [
              "Metadata\n",
              "  root_path: .\n",
              "  tables: ['users', 'sessions', 'transactions']\n",
              "  relationships:\n",
              "    sessions.user_id -> users.user_id\n",
              "    transactions.session_id -> sessions.session_id"
            ]
          },
          "metadata": {},
          "execution_count": 68
        }
      ]
    },
    {
      "cell_type": "code",
      "source": [
        "metadata.visualize()"
      ],
      "metadata": {
        "colab": {
          "base_uri": "https://localhost:8080/",
          "height": 708
        },
        "id": "WVxnI6H1zjiJ",
        "outputId": "2975cd58-8f3f-4aa6-cc3e-1b9c549868e3"
      },
      "execution_count": 70,
      "outputs": [
        {
          "output_type": "execute_result",
          "data": {
            "image/svg+xml": "<?xml version=\"1.0\" encoding=\"UTF-8\" standalone=\"no\"?>\n<!DOCTYPE svg PUBLIC \"-//W3C//DTD SVG 1.1//EN\"\n \"http://www.w3.org/Graphics/SVG/1.1/DTD/svg11.dtd\">\n<!-- Generated by graphviz version 2.40.1 (20161225.0304)\n -->\n<!-- Title: Metadata Pages: 1 -->\n<svg width=\"380pt\" height=\"515pt\"\n viewBox=\"0.00 0.00 380.00 515.00\" xmlns=\"http://www.w3.org/2000/svg\" xmlns:xlink=\"http://www.w3.org/1999/xlink\">\n<g id=\"graph0\" class=\"graph\" transform=\"scale(1 1) rotate(0) translate(4 511)\">\n<title>Metadata</title>\n<polygon fill=\"#ffffff\" stroke=\"transparent\" points=\"-4,4 -4,-511 376,-511 376,4 -4,4\"/>\n<!-- users -->\n<g id=\"node1\" class=\"node\">\n<title>users</title>\n<path fill=\"#ffec8b\" stroke=\"#000000\" d=\"M40.5,-392.5C40.5,-392.5 171.5,-392.5 171.5,-392.5 177.5,-392.5 183.5,-398.5 183.5,-404.5 183.5,-404.5 183.5,-494.5 183.5,-494.5 183.5,-500.5 177.5,-506.5 171.5,-506.5 171.5,-506.5 40.5,-506.5 40.5,-506.5 34.5,-506.5 28.5,-500.5 28.5,-494.5 28.5,-494.5 28.5,-404.5 28.5,-404.5 28.5,-398.5 34.5,-392.5 40.5,-392.5\"/>\n<text text-anchor=\"middle\" x=\"106\" y=\"-491.3\" font-family=\"Times,serif\" font-size=\"14.00\" fill=\"#000000\">users</text>\n<polyline fill=\"none\" stroke=\"#000000\" points=\"28.5,-483.5 183.5,-483.5 \"/>\n<text text-anchor=\"start\" x=\"36.5\" y=\"-468.3\" font-family=\"Times,serif\" font-size=\"14.00\" fill=\"#000000\">user_id : id &#45; integer</text>\n<text text-anchor=\"start\" x=\"36.5\" y=\"-453.3\" font-family=\"Times,serif\" font-size=\"14.00\" fill=\"#000000\">country : categorical</text>\n<text text-anchor=\"start\" x=\"36.5\" y=\"-438.3\" font-family=\"Times,serif\" font-size=\"14.00\" fill=\"#000000\">gender : categorical</text>\n<text text-anchor=\"start\" x=\"36.5\" y=\"-423.3\" font-family=\"Times,serif\" font-size=\"14.00\" fill=\"#000000\">age : numerical &#45; integer</text>\n<polyline fill=\"none\" stroke=\"#000000\" points=\"28.5,-415.5 183.5,-415.5 \"/>\n<text text-anchor=\"start\" x=\"36.5\" y=\"-400.3\" font-family=\"Times,serif\" font-size=\"14.00\" fill=\"#000000\">Primary key: user_id</text>\n</g>\n<!-- sessions -->\n<g id=\"node2\" class=\"node\">\n<title>sessions</title>\n<path fill=\"#ffec8b\" stroke=\"#000000\" d=\"M28,-196.5C28,-196.5 184,-196.5 184,-196.5 190,-196.5 196,-202.5 196,-208.5 196,-208.5 196,-328.5 196,-328.5 196,-334.5 190,-340.5 184,-340.5 184,-340.5 28,-340.5 28,-340.5 22,-340.5 16,-334.5 16,-328.5 16,-328.5 16,-208.5 16,-208.5 16,-202.5 22,-196.5 28,-196.5\"/>\n<text text-anchor=\"middle\" x=\"106\" y=\"-325.3\" font-family=\"Times,serif\" font-size=\"14.00\" fill=\"#000000\">sessions</text>\n<polyline fill=\"none\" stroke=\"#000000\" points=\"16,-317.5 196,-317.5 \"/>\n<text text-anchor=\"start\" x=\"24\" y=\"-302.3\" font-family=\"Times,serif\" font-size=\"14.00\" fill=\"#000000\">session_id : id &#45; integer</text>\n<text text-anchor=\"start\" x=\"24\" y=\"-287.3\" font-family=\"Times,serif\" font-size=\"14.00\" fill=\"#000000\">user_id : id &#45; integer</text>\n<text text-anchor=\"start\" x=\"24\" y=\"-272.3\" font-family=\"Times,serif\" font-size=\"14.00\" fill=\"#000000\">device : categorical</text>\n<text text-anchor=\"start\" x=\"24\" y=\"-257.3\" font-family=\"Times,serif\" font-size=\"14.00\" fill=\"#000000\">os : categorical</text>\n<text text-anchor=\"start\" x=\"24\" y=\"-242.3\" font-family=\"Times,serif\" font-size=\"14.00\" fill=\"#000000\">minutes : numerical &#45; integer</text>\n<polyline fill=\"none\" stroke=\"#000000\" points=\"16,-234.5 196,-234.5 \"/>\n<text text-anchor=\"start\" x=\"24\" y=\"-219.3\" font-family=\"Times,serif\" font-size=\"14.00\" fill=\"#000000\">Primary key: session_id</text>\n<text text-anchor=\"start\" x=\"24\" y=\"-204.3\" font-family=\"Times,serif\" font-size=\"14.00\" fill=\"#000000\">Foreign key (users): user_id</text>\n</g>\n<!-- users&#45;&gt;sessions -->\n<g id=\"edge1\" class=\"edge\">\n<title>users&#45;&gt;sessions</title>\n<path fill=\"none\" stroke=\"#000000\" d=\"M106,-392.2305C106,-379.0626 106,-364.8049 106,-350.8104\"/>\n<polygon fill=\"none\" stroke=\"#000000\" points=\"109.5,-340.6861 106.0001,-350.6862 102.5,-340.6862 109.5,-340.6861\"/>\n<text text-anchor=\"middle\" x=\"202.5\" y=\"-362.8\" font-family=\"Times,serif\" font-size=\"14.00\" fill=\"#000000\"> &#160;&#160;sessions.user_id &gt; users.user_id</text>\n</g>\n<!-- transactions -->\n<g id=\"node3\" class=\"node\">\n<title>transactions</title>\n<path fill=\"#ffec8b\" stroke=\"#000000\" d=\"M12,-.5C12,-.5 200,-.5 200,-.5 206,-.5 212,-6.5 212,-12.5 212,-12.5 212,-132.5 212,-132.5 212,-138.5 206,-144.5 200,-144.5 200,-144.5 12,-144.5 12,-144.5 6,-144.5 0,-138.5 0,-132.5 0,-132.5 0,-12.5 0,-12.5 0,-6.5 6,-.5 12,-.5\"/>\n<text text-anchor=\"middle\" x=\"106\" y=\"-129.3\" font-family=\"Times,serif\" font-size=\"14.00\" fill=\"#000000\">transactions</text>\n<polyline fill=\"none\" stroke=\"#000000\" points=\"0,-121.5 212,-121.5 \"/>\n<text text-anchor=\"start\" x=\"8\" y=\"-106.3\" font-family=\"Times,serif\" font-size=\"14.00\" fill=\"#000000\">transaction_id : id &#45; integer</text>\n<text text-anchor=\"start\" x=\"8\" y=\"-91.3\" font-family=\"Times,serif\" font-size=\"14.00\" fill=\"#000000\">session_id : id &#45; integer</text>\n<text text-anchor=\"start\" x=\"8\" y=\"-76.3\" font-family=\"Times,serif\" font-size=\"14.00\" fill=\"#000000\">timestamp : datetime</text>\n<text text-anchor=\"start\" x=\"8\" y=\"-61.3\" font-family=\"Times,serif\" font-size=\"14.00\" fill=\"#000000\">amount : numerical &#45; float</text>\n<text text-anchor=\"start\" x=\"8\" y=\"-46.3\" font-family=\"Times,serif\" font-size=\"14.00\" fill=\"#000000\">cancelled : boolean</text>\n<polyline fill=\"none\" stroke=\"#000000\" points=\"0,-38.5 212,-38.5 \"/>\n<text text-anchor=\"start\" x=\"8\" y=\"-23.3\" font-family=\"Times,serif\" font-size=\"14.00\" fill=\"#000000\">Primary key: transaction_id</text>\n<text text-anchor=\"start\" x=\"8\" y=\"-8.3\" font-family=\"Times,serif\" font-size=\"14.00\" fill=\"#000000\">Foreign key (sessions): session_id</text>\n</g>\n<!-- sessions&#45;&gt;transactions -->\n<g id=\"edge2\" class=\"edge\">\n<title>sessions&#45;&gt;transactions</title>\n<path fill=\"none\" stroke=\"#000000\" d=\"M106,-196.3518C106,-182.9568 106,-168.8678 106,-155.187\"/>\n<polygon fill=\"none\" stroke=\"#000000\" points=\"109.5,-144.823 106.0001,-154.8231 102.5,-144.8231 109.5,-144.823\"/>\n<text text-anchor=\"middle\" x=\"239\" y=\"-166.8\" font-family=\"Times,serif\" font-size=\"14.00\" fill=\"#000000\"> &#160;&#160;transactions.session_id &gt; sessions.session_id</text>\n</g>\n</g>\n</svg>\n",
            "text/plain": [
              "<graphviz.graphs.Digraph at 0x7f9d874d13d0>"
            ]
          },
          "metadata": {},
          "execution_count": 70
        }
      ]
    },
    {
      "cell_type": "code",
      "source": [
        "from sdv.relational import HMA1\n",
        "model = HMA1(metadata)\n",
        "model.fit(tables)"
      ],
      "metadata": {
        "id": "ruWqe48T0QPo"
      },
      "execution_count": 71,
      "outputs": []
    },
    {
      "cell_type": "code",
      "source": [
        "new_data = model.sample()"
      ],
      "metadata": {
        "id": "hEPw7-ZQ0nHh"
      },
      "execution_count": 72,
      "outputs": []
    },
    {
      "cell_type": "code",
      "source": [
        "new_data"
      ],
      "metadata": {
        "colab": {
          "base_uri": "https://localhost:8080/"
        },
        "id": "BqdZ_Kfo0yWs",
        "outputId": "663dac4d-45cd-4dca-ad5d-481e2d47a36d"
      },
      "execution_count": 73,
      "outputs": [
        {
          "output_type": "execute_result",
          "data": {
            "text/plain": [
              "{'users':    user_id country gender  age\n",
              " 0        0      DE      F   33\n",
              " 1        1      FR    NaN   35\n",
              " 2        2      DE      M   42\n",
              " 3        3      ES      M   54\n",
              " 4        4      UK      F   32\n",
              " 5        5      ES      M   50\n",
              " 6        6      ES    NaN   51\n",
              " 7        7      US    NaN   41\n",
              " 8        8      FR    NaN   38\n",
              " 9        9      ES      F   41,\n",
              " 'sessions':    session_id  user_id  device       os  minutes\n",
              " 0           0        0  mobile      ios       27\n",
              " 1           1        1  mobile  android       25\n",
              " 2           2        2  mobile  android       28\n",
              " 3           3        3  tablet  android       19\n",
              " 4           4        4  mobile      ios       17\n",
              " 5           5        5  mobile  android        7\n",
              " 6           6        6  tablet  android       19\n",
              " 7           7        7  tablet  android       14\n",
              " 8           8        8  tablet      ios       26\n",
              " 9           9        9  mobile  android        7,\n",
              " 'transactions':    transaction_id  session_id           timestamp  amount  cancelled\n",
              " 0               0           0 2019-01-05 23:53:19    55.3      False\n",
              " 1               1           1 2019-01-11 01:50:38    63.5      False\n",
              " 2               2           2 2019-01-19 14:01:05    85.2      False\n",
              " 3               3           3 2019-01-15 15:25:17    95.6      False\n",
              " 4               4           4 2019-01-01 12:34:32    55.3      False\n",
              " 5               5           5 2019-01-08 08:29:12   122.7       True\n",
              " 6               6           6 2019-01-17 04:02:21   106.9       True\n",
              " 7               7           7 2019-01-10 22:03:12    58.4      False\n",
              " 8               8           8 2019-01-28 00:37:34   103.4      False\n",
              " 9               9           9 2019-01-01 22:42:35    64.0      False}"
            ]
          },
          "metadata": {},
          "execution_count": 73
        }
      ]
    },
    {
      "cell_type": "code",
      "source": [],
      "metadata": {
        "id": "HzmR7C0L01NT"
      },
      "execution_count": null,
      "outputs": []
    }
  ]
}